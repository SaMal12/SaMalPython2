{
 "cells": [
  {
   "cell_type": "code",
   "execution_count": 29,
   "id": "d4e92559",
   "metadata": {},
   "outputs": [
    {
     "ename": "IndentationError",
     "evalue": "unindent does not match any outer indentation level (<tokenize>, line 9)",
     "output_type": "error",
     "traceback": [
      "\u001b[1;36m  File \u001b[1;32m\"<tokenize>\"\u001b[1;36m, line \u001b[1;32m9\u001b[0m\n\u001b[1;33m    if what_ya_want==\"book author\":\u001b[0m\n\u001b[1;37m    ^\u001b[0m\n\u001b[1;31mIndentationError\u001b[0m\u001b[1;31m:\u001b[0m unindent does not match any outer indentation level\n"
     ]
    }
   ],
   "source": [
    "what_ya_want=input(\"do you want to see the book authors, the book prices or the movie prices?\")\n",
    "class product:\n",
    "    def init(self,books,movies):\n",
    "    class books(product):\n",
    "              book_author=[\"To Kill A Mocking Bird\":\"Harper Lee\",\"Warriors Dont Cry\":,\"Melba Pattillo Beals\",\"This Book Is Gay\":\"Juno Dawson\"]\n",
    "\n",
    "              book_price=[\"To Kill A Mocking Bird\":\"$15\",\"Warriors Dont Cry\":\"$20\",\"This Book Is Gay\":\"$30\"]\n",
    "                 \n",
    "            if what_ya_want==\"book author\":\n",
    "                print(book_author)\n",
    "       \n",
    "             if what_ya_want==\"book price\":\n",
    "                print(book_price)\n",
    "       \n",
    "             else:\n",
    "                print(f\"I am sorry we dont have{what_ya_want}\")\n",
    "     \n",
    "     class movies(product):\n",
    "             movie_prices=[\"Love Simon\":\"$30\",\"3 Generations\":\"$40\",\"Luca\":\"$50\"]\n",
    "   \n",
    "       \n",
    " \n",
    "      \n",
    " \n",
    "\n",
    "    \n",
    "    \n",
    "    \n",
    "    \n",
    "    "
   ]
  },
  {
   "cell_type": "code",
   "execution_count": null,
   "id": "32bcfbd7",
   "metadata": {},
   "outputs": [],
   "source": []
  }
 ],
 "metadata": {
  "kernelspec": {
   "display_name": "Python 3",
   "language": "python",
   "name": "python3"
  },
  "language_info": {
   "codemirror_mode": {
    "name": "ipython",
    "version": 3
   },
   "file_extension": ".py",
   "mimetype": "text/x-python",
   "name": "python",
   "nbconvert_exporter": "python",
   "pygments_lexer": "ipython3",
   "version": "3.8.8"
  }
 },
 "nbformat": 4,
 "nbformat_minor": 5
}
