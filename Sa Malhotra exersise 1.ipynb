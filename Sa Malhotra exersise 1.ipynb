{
 "cells": [
  {
   "cell_type": "markdown",
   "metadata": {},
   "source": [
    "# OOP - Class "
   ]
  },
  {
   "cell_type": "markdown",
   "metadata": {},
   "source": [
    "## Exercise 1: \n",
    "Create a Player class with a name, a position, and a speed attributes. Set the initial value of speed to 1 and create any necessary methods.\n",
    "Then, \n",
    "1. Create two Player objects and print information about both players.\n",
    "2. Assign 8 to player 1's speed\n",
    "3. print information about both players."
   ]
  },
  {
   "cell_type": "code",
   "execution_count": 1,
   "metadata": {},
   "outputs": [
    {
     "ename": "SyntaxError",
     "evalue": "cannot assign to function call (<ipython-input-1-0bb6fa649cbe>, line 7)",
     "output_type": "error",
     "traceback": [
      "\u001b[1;36m  File \u001b[1;32m\"<ipython-input-1-0bb6fa649cbe>\"\u001b[1;36m, line \u001b[1;32m7\u001b[0m\n\u001b[1;33m    self.speed(player1)=self.speed+7\u001b[0m\n\u001b[1;37m    ^\u001b[0m\n\u001b[1;31mSyntaxError\u001b[0m\u001b[1;31m:\u001b[0m cannot assign to function call\n"
     ]
    }
   ],
   "source": [
    "class Player:\n",
    "    def __init__(self,name,position):\n",
    "        self.name=name\n",
    "        self.position=position\n",
    "        self.speed=1\n",
    "    def boost(self):\n",
    "        self.speed(player1)=self.speed+7\n",
    "player1=(\"Sa\",\"1st\",1)\n",
    "print(player1)\n",
    "player2=(\"Kaden\",\"2nd\",1)\n",
    "print(player2)\n",
    "\n",
    "        "
   ]
  },
  {
   "cell_type": "markdown",
   "metadata": {},
   "source": [
    "## Exercise 2: \n",
    "Create a class called Rectangle with height and length attributes and has following methods: \n",
    "- perimeter() : returns a perimeter of a rectangle object\n",
    "- area() : returns an area of a rectangle object\n",
    "\n",
    "Then,\n",
    "1. create two instances of Rectangle class\n",
    "2. print each rectangle's perimeter and determine which rectangle has larger perimeter\n",
    "3. print each rectangle's area and determine which rectangle has larger area"
   ]
  },
  {
   "cell_type": "code",
   "execution_count": 17,
   "metadata": {},
   "outputs": [
    {
     "ename": "IndentationError",
     "evalue": "unindent does not match any outer indentation level (<tokenize>, line 3)",
     "output_type": "error",
     "traceback": [
      "\u001b[1;36m  File \u001b[1;32m\"<tokenize>\"\u001b[1;36m, line \u001b[1;32m3\u001b[0m\n\u001b[1;33m    def __init__(self, height, length):\u001b[0m\n\u001b[1;37m    ^\u001b[0m\n\u001b[1;31mIndentationError\u001b[0m\u001b[1;31m:\u001b[0m unindent does not match any outer indentation level\n"
     ]
    }
   ],
   "source": [
    "class Rectangle:\n",
    "        \"\"\"Rectangle's attributes are height and width and with area and perimeter methods\"\"\"\n",
    "    def __init__(self, height, length):\n",
    "        self.height=int(height)\n",
    "        self.length=int(length)\n",
    "   \n",
    "    def calculate_area:\n",
    "        self.height*self.length/2\n",
    "        print(calculate_area)\n",
    "  \n",
    "    def calculate_perimeter:\n",
    "        self.height*2+self.length*2\n",
    "        print(calculate_perimeter)"
   ]
  },
  {
   "cell_type": "markdown",
   "metadata": {},
   "source": [
    "## Exercise 3: \n",
    "Create a class called Triangle with height and base attributes and has following methods:\n",
    "\n",
    "- perimeter() : returns a perimeter of a right triangle object\n",
    "- area() : returns an area of a right triangle object\n",
    "\n",
    "Then,\n",
    "\n",
    "- create two instances of Triangle class\n",
    "- print each triangle's perimeter and determine which triangle has larger perimeter\n",
    "- print each triangle's area and determine which triangle has larger area\n",
    "\n",
    "Use \n",
    "- perimeter of a right triangle = height + base + Square-Root((height \\** 2) + (base \\** 2)) \n",
    "- area of a right triangle = ( height * base ) / 2\n",
    "\n",
    "You'll need to <b>import math</b> library and use <b>math.sqrt()</b> function.\n",
    "\n"
   ]
  },
  {
   "cell_type": "code",
   "execution_count": 21,
   "metadata": {},
   "outputs": [
    {
     "ename": "SyntaxError",
     "evalue": "invalid syntax (<ipython-input-21-1e706dcd3ebf>, line 8)",
     "output_type": "error",
     "traceback": [
      "\u001b[1;36m  File \u001b[1;32m\"<ipython-input-21-1e706dcd3ebf>\"\u001b[1;36m, line \u001b[1;32m8\u001b[0m\n\u001b[1;33m    def calculate_perimeter:\u001b[0m\n\u001b[1;37m                           ^\u001b[0m\n\u001b[1;31mSyntaxError\u001b[0m\u001b[1;31m:\u001b[0m invalid syntax\n"
     ]
    }
   ],
   "source": [
    "import math\n",
    "class Triangle:\n",
    "    \"\"\"Triangle's attributes are height and base and the methods are perimeter and area\"\"\"\n",
    "    def __init__(height,base):\n",
    "        self.height=int(height)\n",
    "        self.base=int(base)\n",
    "    \n",
    "    def calculate_perimeter:\n",
    "        self.height*2+self.base*2\n",
    "        print(calculate_perimeter)\n",
    "    def calculate_area:\n",
    "        self.height*self.base/2\n",
    "        print(calculate_area)\n",
    "calculation1 = Triangle(12,12)\n",
    "print(calculation1)\n",
    "calculation2=Triangle(3,4)\n",
    "print(calculation2)\n",
    "        \n",
    "  \n",
    "    "
   ]
  },
  {
   "cell_type": "markdown",
   "metadata": {},
   "source": [
    "## Exercise 4: \n",
    "Write a program that maintains a list of movies, and the user can list all the movies, add a movie to the list, or delete a movie from the list. All input/output are done at the program level, not at a class level.\n",
    "\n",
    "\n",
    "For Python 1 Day 3 Challenge Exercise, you wrote a program that maintains a list of movies, and the user can list all the movies, add a movie to the list, or delete a movie from the list. Modify that program to use a <b>Movie object</b> to store name, year, and genre of a movie. Create any method you need to access these attributes but your method can not use <b>print</b> function. \n",
    "\n",
    "Additionally, create any function you need to make sure program neat. You may use <b>print</b> function in your function.\n"
   ]
  },
  {
   "cell_type": "code",
   "execution_count": 26,
   "metadata": {},
   "outputs": [
    {
     "ename": "SyntaxError",
     "evalue": "invalid syntax (<ipython-input-26-c61004125d04>, line 1)",
     "output_type": "error",
     "traceback": [
      "\u001b[1;36m  File \u001b[1;32m\"<ipython-input-26-c61004125d04>\"\u001b[1;36m, line \u001b[1;32m1\u001b[0m\n\u001b[1;33m    def movie_list:\u001b[0m\n\u001b[1;37m                  ^\u001b[0m\n\u001b[1;31mSyntaxError\u001b[0m\u001b[1;31m:\u001b[0m invalid syntax\n"
     ]
    }
   ],
   "source": [
    "def movie_list:\n",
    "    print(f\"Toy Story \\n\\ Lion King \\n\\ Finding Nemo \\n\\ Grownups\")\n",
    "class Movies:\n",
    "          def __init__(self,names,year,genre):\n",
    "            self.name=names\n",
    "            self.year\n",
    "            self.genre\n",
    "          def genres(self,genre):\n",
    "             self.comedy=\"Grownups\",\"Finding Nemo\"\n",
    "                 self.heartfelt=\"Toy Story\",\"Lion King\"\n",
    "            \n",
    "          \n",
    "         \n",
    "          "
   ]
  },
  {
   "cell_type": "markdown",
   "metadata": {},
   "source": [
    "## Exercise 5: \n",
    "Create a class called Employee with \n",
    "- firstname,\n",
    "- lastname, \n",
    "- joined_date\n",
    "- active\n",
    "\n",
    "attributes and methods to retrieve each attribute.\n",
    "\n",
    "Then, write a program to \n",
    "- add 10 or more employees\n",
    "- print all employees' information\n",
    "- print all active employees' information\n",
    "\n",
    "Create any methods you need but all print statements should be called from your program, not in your class method!\n",
    "\n",
    "You must use below data set (but can add more):\n",
    "\n",
    "    data = [{\"first\":\"elmo\", \"last\":\"monster\", \"year\": 2000},\n",
    "            {\"first\":\"count\", \"last\":\"count\", \"year\": 1819},\n",
    "            {\"first\":\"big\", \"last\":\"bird\", \"year\": 2011},\n",
    "            {\"first\":\"cookie\", \"last\":\"monster\", \"year\": 2002},\n",
    "            {\"first\":\"bert\", \"last\": \"person\", \"year\": 2013},\n",
    "            {\"first\":\"ernie\", \"last\": \"person\", \"year\": 2013},\n",
    "            {\"first\":\"oscar\", \"last\": \"grouch\", \"year\": 1999},\n",
    "            {\"first\":\"zoe\", \"last\": \"cutie\", \"year\": 2015},\n",
    "            {\"first\":\"abby\", \"last\": \"cadabby\", \"year\": 2016},\n",
    "            {\"first\":\"prairie\", \"last\": \"dawn\", \"year\": 2020}\n",
    "       ]"
   ]
  },
  {
   "cell_type": "code",
   "execution_count": 12,
   "metadata": {},
   "outputs": [
    {
     "ename": "TypeError",
     "evalue": "__init__() missing 1 required positional argument: 'active'",
     "output_type": "error",
     "traceback": [
      "\u001b[1;31m---------------------------------------------------------------------------\u001b[0m",
      "\u001b[1;31mTypeError\u001b[0m                                 Traceback (most recent call last)",
      "\u001b[1;32m<ipython-input-12-14fd1989efdb>\u001b[0m in \u001b[0;36m<module>\u001b[1;34m\u001b[0m\n\u001b[0;32m      7\u001b[0m         \u001b[0mself\u001b[0m\u001b[1;33m.\u001b[0m\u001b[0mjoin_date\u001b[0m\u001b[1;33m=\u001b[0m\u001b[0mjoin_date\u001b[0m\u001b[1;33m\u001b[0m\u001b[1;33m\u001b[0m\u001b[0m\n\u001b[0;32m      8\u001b[0m         \u001b[0mself\u001b[0m\u001b[1;33m.\u001b[0m\u001b[0mactive\u001b[0m\u001b[1;33m=\u001b[0m\u001b[1;32mTrue\u001b[0m\u001b[1;33m\u001b[0m\u001b[1;33m\u001b[0m\u001b[0m\n\u001b[1;32m----> 9\u001b[1;33m \u001b[0mEmp1\u001b[0m\u001b[1;33m=\u001b[0m\u001b[0mEmployees\u001b[0m\u001b[1;33m(\u001b[0m\u001b[1;34m\"Noel\"\u001b[0m\u001b[1;33m,\u001b[0m\u001b[1;34m\"Smith\"\u001b[0m\u001b[1;33m,\u001b[0m\u001b[1;36m2020\u001b[0m\u001b[1;33m)\u001b[0m\u001b[1;33m\u001b[0m\u001b[1;33m\u001b[0m\u001b[0m\n\u001b[0m\u001b[0;32m     10\u001b[0m \u001b[0mprint\u001b[0m\u001b[1;33m(\u001b[0m\u001b[0mEmp1\u001b[0m\u001b[1;33m)\u001b[0m\u001b[1;33m\u001b[0m\u001b[1;33m\u001b[0m\u001b[0m\n\u001b[0;32m     11\u001b[0m \u001b[0mEmp2\u001b[0m\u001b[1;33m=\u001b[0m\u001b[1;33m(\u001b[0m\u001b[1;34m\"Nicky\"\u001b[0m\u001b[1;33m,\u001b[0m\u001b[1;34m\"Johnson\"\u001b[0m\u001b[1;33m,\u001b[0m\u001b[1;36m2020\u001b[0m\u001b[1;33m)\u001b[0m\u001b[1;33m\u001b[0m\u001b[1;33m\u001b[0m\u001b[0m\n",
      "\u001b[1;31mTypeError\u001b[0m: __init__() missing 1 required positional argument: 'active'"
     ]
    }
   ],
   "source": [
    "class Employees:\n",
    "    \"\"\"Employees attributes are firstname lastname joineddate active\"\"\"\n",
    "    \n",
    "    def __init__(self, first_name, last_name, join_date, active):\n",
    "        self.first_name=first_name\n",
    "        self.last_name=last_name\n",
    "        self.join_date=join_date\n",
    "        self.active=active or inactive\n",
    "Emp1=Employees(\"Noel\",\"Smith\",2020,\"active\")   \n",
    "print(Emp1)\n",
    "Emp2=Employees(\"Nicky\",\"Johnson\",2020,\"active\")\n",
    "print(Emp2)\n",
    "Emp3=Employees(\"Nicole\",\"Pisshead\",2021,\"active\")\n",
    "print(Emp3)\n",
    "Emp4=Employees(\"Cody\",\"Martin\",2008,\"active\")\n",
    "print(Emp4)\n",
    "Emp5=Employees(\"Zack\", \"Martin\",2008,\"active\")\n",
    "print(Emp5)\n",
    "Emp5=Employees(\"Bobby\",\"Nash\",2009,\"active\")\n",
    "print(Emp5)\n",
    "Emp6=Employees(\"Juice\",\"World\",2004,\"inactive\")\n",
    "print(Emp6)\n",
    "Emp7=Employees(\"Robin\",\"Williams\",2014,\"inactive\")\n",
    "print(Emp7)\n",
    "Emp8=Employees(\"Cam\",\"Boyce\",2017,\"inactive\")\n",
    "print(Emp8)\n",
    "Emp9=Employees(\"Johnny\",\"Depp\",2015,\"inactive\")\n",
    "print(Emp9)\n",
    "Emp10=Employees(\"Tim\",\"Curry\",2014,\"inactive\")"
   ]
  },
  {
   "cell_type": "code",
   "execution_count": null,
   "metadata": {},
   "outputs": [],
   "source": []
  }
 ],
 "metadata": {
  "kernelspec": {
   "display_name": "Python 3",
   "language": "python",
   "name": "python3"
  },
  "language_info": {
   "codemirror_mode": {
    "name": "ipython",
    "version": 3
   },
   "file_extension": ".py",
   "mimetype": "text/x-python",
   "name": "python",
   "nbconvert_exporter": "python",
   "pygments_lexer": "ipython3",
   "version": "3.8.5"
  }
 },
 "nbformat": 4,
 "nbformat_minor": 4
}
