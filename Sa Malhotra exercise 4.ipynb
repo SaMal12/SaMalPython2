{
 "cells": [
  {
   "cell_type": "markdown",
   "metadata": {},
   "source": [
    "Exercise 1. \n",
    "\n",
    "Create a table named Countries which has country_id column as the primary key and name column. Then insert least 3 rows of data and use SELECT command to show the contents of the table. "
   ]
  },
  {
   "cell_type": "code",
   "execution_count": 1,
   "metadata": {},
   "outputs": [],
   "source": [
    "# You need to run this cell to connect to in-memory database\n",
    "\n",
    "#importing the sqlite module \n",
    "import sqlite3\n",
    "\n",
    "# In memory database\n",
    "dbconn = sqlite3.connect(':memory:')\n",
    "\n",
    "#set a variable up for the cursor to write SQL scripts\n",
    "db = dbconn.cursor()"
   ]
  },
  {
   "cell_type": "code",
   "execution_count": 2,
   "metadata": {},
   "outputs": [
    {
     "data": {
      "text/plain": [
       "<sqlite3.Cursor at 0x1c3ca51d260>"
      ]
     },
     "execution_count": 2,
     "metadata": {},
     "output_type": "execute_result"
    }
   ],
   "source": [
    "db.execute(\"\"\"CREATE TABLE Countries( \n",
    "                           Country_ID INTEGER PRIMARY KEY AUTOINCREMENT,\n",
    "                           TEXT Country_Name\n",
    ")\"\"\")\n",
    "\n"
   ]
  },
  {
   "cell_type": "code",
   "execution_count": 8,
   "metadata": {},
   "outputs": [
    {
     "name": "stdout",
     "output_type": "stream",
     "text": [
      "[(100, 'Congo'), (101, 'India'), (102, 'Canada'), (103, 'Congo'), (104, 'India'), (105, 'Canada'), (106, 'Congo'), (107, 'India'), (108, 'Canada'), (109, 'Congo'), (110, 'India'), (111, 'Canada')]\n"
     ]
    }
   ],
   "source": [
    "db.execute(\"INSERT INTO Countries VALUES (NULL,'Congo')\")\n",
    "db.execute(\"INSERT INTO Countries VALUES(NULL, 'India')\")\n",
    "db.execute(\"INSERT INTO Countries VALUES(NULL,'Canada')\")\n",
    "dbconn.commit\n",
    "db.execute(\"SELECT * FROM Countries\")\n",
    "print(db.fetchall())"
   ]
  },
  {
   "cell_type": "code",
   "execution_count": 12,
   "metadata": {},
   "outputs": [
    {
     "name": "stdout",
     "output_type": "stream",
     "text": [
      "[(100, 'Congo'), (102, 'Canada'), (103, 'Congo'), (104, 'India'), (105, 'Canada'), (106, 'Congo'), (107, 'India'), (108, 'Canada'), (109, 'Congo'), (110, 'India'), (111, 'Canada')]\n"
     ]
    }
   ],
   "source": [
    "db.execute(\"DELETE FROM Countries WHERE Country_ID=101\")\n",
    "db.execute(\"SELECT * FROM Countries\")\n",
    "print(db.fetchall())\n"
   ]
  },
  {
   "cell_type": "code",
   "execution_count": 14,
   "metadata": {},
   "outputs": [
    {
     "name": "stdout",
     "output_type": "stream",
     "text": [
      "[(100, 'Congo'), (102, 'Canada'), (103, 'Congo'), (104, 'India'), (105, 'Canada'), (106, 'Congo'), (107, 'India'), (108, 'Canada'), (109, 'Congo'), (111, 'Canada')]\n"
     ]
    }
   ],
   "source": [
    "db.execute(\"DELETE FROM Countries WHERE Country_ID= 110\")\n",
    "db.execute(\"SELECT * FROM Countries\")\n",
    "print(db.fetchall())"
   ]
  },
  {
   "cell_type": "code",
   "execution_count": 15,
   "metadata": {},
   "outputs": [
    {
     "name": "stdout",
     "output_type": "stream",
     "text": [
      "[(100, 'Congo'), (102, 'Canada'), (103, 'Congo'), (105, 'Canada'), (106, 'Congo'), (107, 'India'), (108, 'Canada'), (109, 'Congo'), (111, 'Canada')]\n"
     ]
    }
   ],
   "source": [
    "db.execute(\"DELETE FROM Countries WHERE Country_ID=104\")\n",
    "db.execute(\"SELECT *FROM Countries\")\n",
    "print(db.fetchall())"
   ]
  },
  {
   "cell_type": "code",
   "execution_count": 16,
   "metadata": {},
   "outputs": [
    {
     "name": "stdout",
     "output_type": "stream",
     "text": [
      "[(100, 'Congo'), (102, 'Canada'), (103, 'Congo'), (105, 'Canada'), (106, 'Congo'), (107, 'India'), (108, 'Canada'), (109, 'Congo')]\n"
     ]
    }
   ],
   "source": [
    "db.execute(\"DELETE FROM Countries WHERE Country_ID=111\")\n",
    "db.execute(\"SELECT *FROM Countries\")\n",
    "print(db.fetchall())"
   ]
  },
  {
   "cell_type": "code",
   "execution_count": 17,
   "metadata": {},
   "outputs": [
    {
     "name": "stdout",
     "output_type": "stream",
     "text": [
      "[(100, 'Congo'), (102, 'Canada'), (103, 'Congo'), (105, 'Canada'), (106, 'Congo'), (107, 'India'), (108, 'Canada')]\n"
     ]
    }
   ],
   "source": [
    "db.execute(\"DELETE FROM Countries WHERE Country_ID=109\")\n",
    "db.execute(\"SELECT *FROM Countries\")\n",
    "print(db.fetchall())"
   ]
  },
  {
   "cell_type": "code",
   "execution_count": 18,
   "metadata": {},
   "outputs": [
    {
     "name": "stdout",
     "output_type": "stream",
     "text": [
      "[(100, 'Congo'), (102, 'Canada'), (103, 'Congo'), (105, 'Canada'), (106, 'Congo'), (107, 'India')]\n"
     ]
    }
   ],
   "source": [
    "db.execute(\"DELETE FROM Countries WHERE Country_ID=108\")\n",
    "db.execute(\"SELECT *FROM Countries\")\n",
    "print(db.fetchall())"
   ]
  },
  {
   "cell_type": "code",
   "execution_count": 19,
   "metadata": {},
   "outputs": [
    {
     "name": "stdout",
     "output_type": "stream",
     "text": [
      "[(100, 'Congo'), (102, 'Canada'), (103, 'Congo'), (106, 'Congo'), (107, 'India')]\n"
     ]
    }
   ],
   "source": [
    "db.execute(\"DELETE FROM Countries WHERE Country_ID=105\")\n",
    "db.execute(\"SELECT *FROM Countries\")\n",
    "print(db.fetchall())"
   ]
  },
  {
   "cell_type": "code",
   "execution_count": 20,
   "metadata": {},
   "outputs": [
    {
     "name": "stdout",
     "output_type": "stream",
     "text": [
      "[(102, 'Canada'), (103, 'Congo'), (106, 'Congo'), (107, 'India')]\n"
     ]
    }
   ],
   "source": [
    "db.execute(\"DELETE FROM Countries WHERE Country_ID=100\")\n",
    "db.execute(\"SELECT *FROM Countries\")\n",
    "print(db.fetchall())"
   ]
  },
  {
   "cell_type": "code",
   "execution_count": 22,
   "metadata": {},
   "outputs": [
    {
     "name": "stdout",
     "output_type": "stream",
     "text": [
      "[(102, 'Canada'), (103, 'Congo'), (107, 'India')]\n"
     ]
    },
    {
     "data": {
      "text/plain": [
       "<function Connection.commit>"
      ]
     },
     "execution_count": 22,
     "metadata": {},
     "output_type": "execute_result"
    }
   ],
   "source": [
    "db.execute(\"DELETE FROM Countries WHERE Country_ID=106\")\n",
    "db.execute(\"SELECT *FROM Countries\")\n",
    "print(db.fetchall())\n",
    "dbconn.commit"
   ]
  },
  {
   "cell_type": "markdown",
   "metadata": {},
   "source": [
    "Exercise 2.\n",
    "\n",
    "Create a table name Cities which has city_id column as the primary key, name column, population column, and country_id column as the foreign key connecting to country_id column of Countries table from Exercise 1. \n",
    "\n",
    "Then \n",
    "- insert least 5 rows of data \n",
    "- use SELECT command to show the contents of the table\n",
    "- use SELECT command to only show the cities of selected country"
   ]
  },
  {
   "cell_type": "code",
   "execution_count": 5,
   "metadata": {},
   "outputs": [],
   "source": [
    "db.execute(\"\"\"CREATE TABLE citity(\n",
    "               City_ID INTEGER PRIMARY KEY AUTOINCREMENT,\n",
    "               Name TEXT,\n",
    "               Population  INTEGER,\n",
    "               Country_ID INTEGER,\n",
    "               FOREIGN KEY(Country_ID) REFERENCES Countries(Country_ID)\n",
    "               )\"\"\")\n",
    "dbconn.commit()"
   ]
  },
  {
   "cell_type": "code",
   "execution_count": 6,
   "metadata": {},
   "outputs": [
    {
     "data": {
      "text/plain": [
       "<sqlite3.Cursor at 0x1c3ca51d260>"
      ]
     },
     "execution_count": 6,
     "metadata": {},
     "output_type": "execute_result"
    }
   ],
   "source": [
    "db.execute(\"INSERT INTO citity VALUES(NULL, 'New York City', 93939989388, 1)\")\n",
    "db.execute(\"INSERT INTO citity VALUES(NULL, 'San Francisco' ,993299999281, 2)\")\n",
    "db.execute(\"INSERT INTO citity VALUES(NULL,'Hollywood',99298989898, 3)\")\n",
    "db.execute(\"INSERT INTO citity VALUES(NULL, 'Las Vagus',9399989939893,4)\")\n",
    "db.execute(\"INSERT INTO citity VALUES(NULL, 'New Dehli',92990290902098, 5)\")"
   ]
  },
  {
   "cell_type": "code",
   "execution_count": 7,
   "metadata": {},
   "outputs": [
    {
     "name": "stdout",
     "output_type": "stream",
     "text": [
      "[(1, 'New York City', 93939989388, 1), (2, 'San Francisco', 993299999281, 2), (3, 'Hollywood', 99298989898, 3), (4, 'Las Vagus', 9399989939893, 4), (5, 'New Dehli', 92990290902098, 5)]\n"
     ]
    }
   ],
   "source": [
    "db.execute(\"SELECT * FROM citity\")\n",
    "print(db.fetchall())\n"
   ]
  },
  {
   "cell_type": "code",
   "execution_count": null,
   "metadata": {},
   "outputs": [],
   "source": []
  },
  {
   "cell_type": "markdown",
   "metadata": {},
   "source": [
    "Exercise 3.\n",
    "\n",
    "Modify 3rd row of Cities table to increase city's population by 1,000. Show data before and after the change."
   ]
  },
  {
   "cell_type": "code",
   "execution_count": 4,
   "metadata": {},
   "outputs": [
    {
     "ename": "OperationalError",
     "evalue": "near \"TABLE\": syntax error",
     "output_type": "error",
     "traceback": [
      "\u001b[1;31m---------------------------------------------------------------------------\u001b[0m",
      "\u001b[1;31mOperationalError\u001b[0m                          Traceback (most recent call last)",
      "\u001b[1;32m<ipython-input-4-356ecdd32512>\u001b[0m in \u001b[0;36m<module>\u001b[1;34m\u001b[0m\n\u001b[1;32m----> 1\u001b[1;33m db.execute(\"\"\"UPDATE TABLE citity(\n\u001b[0m\u001b[0;32m      2\u001b[0m                \u001b[0mPopulation\u001b[0m \u001b[0mAUTOINCREMENT\u001b[0m \u001b[0mBY\u001b[0m \u001b[1;36m1000\u001b[0m\u001b[1;33m\u001b[0m\u001b[1;33m\u001b[0m\u001b[0m\n\u001b[0;32m      3\u001b[0m \"\"\")\n",
      "\u001b[1;31mOperationalError\u001b[0m: near \"TABLE\": syntax error"
     ]
    }
   ],
   "source": [
    "db.execute(\"\"\"UPDATE TABLE citity(\n",
    "               Population AUTOINCREMENT BY 1000 \n",
    "\"\"\")"
   ]
  },
  {
   "cell_type": "code",
   "execution_count": null,
   "metadata": {},
   "outputs": [],
   "source": []
  }
 ],
 "metadata": {
  "kernelspec": {
   "display_name": "Python 3",
   "language": "python",
   "name": "python3"
  },
  "language_info": {
   "codemirror_mode": {
    "name": "ipython",
    "version": 3
   },
   "file_extension": ".py",
   "mimetype": "text/x-python",
   "name": "python",
   "nbconvert_exporter": "python",
   "pygments_lexer": "ipython3",
   "version": "3.8.8"
  }
 },
 "nbformat": 4,
 "nbformat_minor": 4
}
