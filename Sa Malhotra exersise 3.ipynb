{
 "cells": [
  {
   "cell_type": "markdown",
   "metadata": {},
   "source": [
    "# OOP - Polymorphism, & Abstraction"
   ]
  },
  {
   "cell_type": "markdown",
   "metadata": {},
   "source": [
    "## Exercise 1: \n",
    "Create an abstract class called Vehicle with \n",
    "- color, make, and year private attributes \n",
    "\n",
    "and abstract method called \n",
    "- get_info() which returns all information\n",
    "- honk() which returns a string of honking sound\n",
    "\n",
    "Create Car, Boat, and Bicycle class which is a child class of the Vehicle class.  Then, create an instance of each child class and call get_info() method to print out its information in a user friendly format. Add other methods as you like."
   ]
  },
  {
   "cell_type": "code",
   "execution_count": 7,
   "metadata": {},
   "outputs": [
    {
     "ename": "SyntaxError",
     "evalue": "'return' outside function (<ipython-input-7-41b516869fcf>, line 9)",
     "output_type": "error",
     "traceback": [
      "\u001b[1;36m  File \u001b[1;32m\"<ipython-input-7-41b516869fcf>\"\u001b[1;36m, line \u001b[1;32m9\u001b[0m\n\u001b[1;33m    return \"honk honk\"\u001b[0m\n\u001b[1;37m    ^\u001b[0m\n\u001b[1;31mSyntaxError\u001b[0m\u001b[1;31m:\u001b[0m 'return' outside function\n"
     ]
    }
   ],
   "source": [
    "from abc import ABC,abstractmethod\n",
    "honk=\"HONK HONK\"\n",
    "class Vehicles(ABC):\n",
    "    def __init__(self,car,boat,bike):\n",
    "        self.car=car\n",
    "        self.boat=boat\n",
    "        self.bike=bike\n",
    "class Car(Vehicles):\n",
    "    return \"honk honk\"\n",
    "class Boat(Vehicles):\n",
    "    return \"watch out fish..... smirks evily\"\n",
    "class Bike(Vehicles):\n",
    "    return \"TRICK TRICK\"\n",
    "get_info=Vehicles()\n",
    "\n",
    "        \n",
    "    "
   ]
  },
  {
   "cell_type": "code",
   "execution_count": null,
   "metadata": {},
   "outputs": [],
   "source": []
  },
  {
   "cell_type": "code",
   "execution_count": null,
   "metadata": {},
   "outputs": [],
   "source": []
  },
  {
   "cell_type": "markdown",
   "metadata": {},
   "source": [
    "## Exercise 2: \n",
    "Create an abstract class called Person with name and address attributes, and print_info() abstract method. \n",
    "1. Build an Employee class inherited from Person class that \n",
    "    - stores hired date and salary attributes \n",
    "    - print_info() method that will be used to print out all information about an employee\n",
    "    - a method to calculate employee's monthly pay where federal tax is 15%, MD tax is 4.5%, and a local tax is 3%.\n",
    "    \n",
    "2. Build a Customer class also inherited from Person class that\n",
    "    - stores balance attribute\n",
    "    - print_info() method that will be used to print out all information about a customer\n",
    "\n",
    "\n",
    "Build any method you need but apply encapsulation at all possible. Then, write a program to show your classes work with multiple employees and customers. \n",
    "\n",
    "CHALLENGE!!!\n",
    "Create an Address class and use it in Person class"
   ]
  },
  {
   "cell_type": "code",
   "execution_count": 10,
   "metadata": {},
   "outputs": [
    {
     "ename": "IndentationError",
     "evalue": "unexpected unindent (<ipython-input-10-efe5699a3494>, line 13)",
     "output_type": "error",
     "traceback": [
      "\u001b[1;36m  File \u001b[1;32m\"<ipython-input-10-efe5699a3494>\"\u001b[1;36m, line \u001b[1;32m13\u001b[0m\n\u001b[1;33m    def Salary(Employees):\u001b[0m\n\u001b[1;37m    ^\u001b[0m\n\u001b[1;31mIndentationError\u001b[0m\u001b[1;31m:\u001b[0m unexpected unindent\n"
     ]
    }
   ],
   "source": [
    "from abc import ABC,abstractmethod\n",
    "class Person:\n",
    "    def __init__(self, name,address):\n",
    "        self.name=name\n",
    "        self.address=address\n",
    "        \n",
    "\n",
    "class Employees(Person):\n",
    "    def __init__(self, hire_date, salary):\n",
    "        self.hire_date=hire_date\n",
    "        self.salary=salary\n",
    "        @abstractmethod\n",
    "    def Salary(Employees):\n",
    "        monthly_salary=input(\"how much do u make?\")\n",
    "        monthly_salary=float(monthly_salary)\n",
    "        fed_tax=monthly_salary/0.15\n",
    "        print(fed_tax)\n",
    "        state_tax=monthly_salary/0.45\n",
    "        print(state_tax)\n",
    "        local_tax=monthly_salary/0.3\n",
    "        print(local_tax)\n",
    "        @abstractmethod\n",
    "class Customers(Person):\n",
    "    def __init__(self,balance):\n",
    "        self.balance=balance\n",
    "        @abstractmethod\n",
    "class address(person):\n",
    "    def __init__(self,address):\n",
    "        self.address=address\n",
    "    \n",
    "        "
   ]
  },
  {
   "cell_type": "code",
   "execution_count": null,
   "metadata": {},
   "outputs": [],
   "source": []
  },
  {
   "cell_type": "code",
   "execution_count": null,
   "metadata": {},
   "outputs": [],
   "source": []
  }
 ],
 "metadata": {
  "kernelspec": {
   "display_name": "Python 3",
   "language": "python",
   "name": "python3"
  },
  "language_info": {
   "codemirror_mode": {
    "name": "ipython",
    "version": 3
   },
   "file_extension": ".py",
   "mimetype": "text/x-python",
   "name": "python",
   "nbconvert_exporter": "python",
   "pygments_lexer": "ipython3",
   "version": "3.8.5"
  }
 },
 "nbformat": 4,
 "nbformat_minor": 4
}
